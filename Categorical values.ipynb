{
 "cells": [
  {
   "cell_type": "code",
   "execution_count": 2,
   "id": "652d32c7",
   "metadata": {},
   "outputs": [
    {
     "name": "stdout",
     "output_type": "stream",
     "text": [
      "[0 1 0 0 1 1 0 1 0 1]\n",
      "   Country   Age   Salary  Purchased\n",
      "0   France  44.0  72000.0          0\n",
      "1    Spain  27.0  48000.0          1\n",
      "2  Germany  30.0  54000.0          0\n",
      "3    Spain  38.0  61000.0          0\n",
      "4  Germany  40.0      NaN          1\n",
      "5   France  35.0  58000.0          1\n",
      "6    Spain   NaN  52000.0          0\n",
      "7   France  48.0  79000.0          1\n",
      "8  Germany  50.0  83000.0          0\n",
      "9   France  37.0  67000.0          1\n"
     ]
    }
   ],
   "source": [
    "# importing pandas as pd\n",
    "import pandas as pd\n",
    "\n",
    "# importing data using .read_csv() function\n",
    "df = pd.read_csv('DataMLcategorical2.csv')\n",
    "\n",
    "from sklearn.preprocessing import LabelEncoder\n",
    "\n",
    "# Creating a LabelEncoder\n",
    "le = LabelEncoder()\n",
    "\n",
    "# Using .fit_transform function to fit label encoder and return encoded label\n",
    "label = le.fit_transform(df['Purchased'])\n",
    "\n",
    "# Printing the label\n",
    "print(label)\n",
    "\n",
    "# Appending the array to our DataFrame with column name 'Purchased'\n",
    "df[\"Purchased\"] = label\n",
    "\n",
    "# Printing DataFrame\n",
    "print(df)\n"
   ]
  },
  {
   "cell_type": "code",
   "execution_count": null,
   "id": "d330b2d1",
   "metadata": {},
   "outputs": [],
   "source": []
  }
 ],
 "metadata": {
  "kernelspec": {
   "display_name": "Python 3 (ipykernel)",
   "language": "python",
   "name": "python3"
  },
  "language_info": {
   "codemirror_mode": {
    "name": "ipython",
    "version": 3
   },
   "file_extension": ".py",
   "mimetype": "text/x-python",
   "name": "python",
   "nbconvert_exporter": "python",
   "pygments_lexer": "ipython3",
   "version": "3.11.5"
  }
 },
 "nbformat": 4,
 "nbformat_minor": 5
}
